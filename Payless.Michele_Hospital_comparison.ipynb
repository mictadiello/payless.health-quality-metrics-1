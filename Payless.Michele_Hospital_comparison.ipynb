{
 "cells": [
  {
   "cell_type": "code",
   "execution_count": 1,
   "metadata": {},
   "outputs": [
    {
     "name": "stdout",
     "output_type": "stream",
     "text": [
      "                                Facility Name Facility ID         NPI  \\\n",
      "0  THE SURGERY CENTER AT NORTHBAY VACA VALLEY  05C0001831  1003015843   \n",
      "1  THE SURGERY CENTER AT NORTHBAY VACA VALLEY  05C0001831  1003015843   \n",
      "2                 CARLSBAD SURGERY CENTER LLC  05C0001873  1003017351   \n",
      "3                 CARLSBAD SURGERY CENTER LLC  05C0001873  1003017351   \n",
      "4                MIDWEST ENDOSCOPY CENTER LLC  14C0001134  1003036310   \n",
      "\n",
      "         City State  ZIP Code     Year  ASC-9 Rate  ASC-9 Footnote  \\\n",
      "0   VACAVILLE    CA   95687.0     2021       71.67             NaN   \n",
      "1   VACAVILLE    CA   95687.0  2022_Q1         NaN             5.0   \n",
      "2    CARLSBAD    CA   92011.0     2021       44.26             NaN   \n",
      "3    CARLSBAD    CA   92011.0  2022_Q1         NaN             5.0   \n",
      "4  NAPERVILLE    IL   60540.0     2021       97.84             NaN   \n",
      "\n",
      "   ASC-11 Rate  ...  ASC-17 Footnote  ASC-18 Total Cases  \\\n",
      "0          NaN  ...              NaN                40.0   \n",
      "1          NaN  ...              5.0                 NaN   \n",
      "2          NaN  ...              NaN                 NaN   \n",
      "3          NaN  ...              5.0                 NaN   \n",
      "4          NaN  ...              5.0                 NaN   \n",
      "\n",
      "           ASC-18 Performance Category  ASC-18 RSHV Rate  \\\n",
      "0  No Different Than the National Rate               5.1   \n",
      "1                                  NaN               NaN   \n",
      "2                                  NaN               NaN   \n",
      "3                                  NaN               NaN   \n",
      "4                                  NaN               NaN   \n",
      "\n",
      "   ASC-18 Interval Lower Limit  ASC-18 Interval Upper Limit  ASC-18 Footnote  \\\n",
      "0                          3.2                          8.2              NaN   \n",
      "1                          NaN                          NaN              5.0   \n",
      "2                          NaN                          NaN              5.0   \n",
      "3                          NaN                          NaN              5.0   \n",
      "4                          NaN                          NaN              5.0   \n",
      "\n",
      "   ASC-20 Sample  ASC-20 Rate  ASC-20 Footnote  \n",
      "0            NaN          NaN              5.0  \n",
      "1           73.0         93.6              NaN  \n",
      "2            NaN          NaN              5.0  \n",
      "3          109.0        100.0              NaN  \n",
      "4            NaN          NaN              5.0  \n",
      "\n",
      "[5 rows x 36 columns]\n"
     ]
    }
   ],
   "source": [
    "import pandas as pd\n",
    "import numpy as np\n",
    "import matplotlib.pyplot as plt\n",
    "import os\n",
    "\n",
    "# Read in the data\n",
    "df1 = pd.read_csv('hospitals_current_data 2/ASC_Facility.csv')\n",
    "\n",
    "\n",
    "print(df1.head()) "
   ]
  },
  {
   "cell_type": "code",
   "execution_count": 2,
   "metadata": {},
   "outputs": [
    {
     "name": "stdout",
     "output_type": "stream",
     "text": [
      "                                       Facility Name  ZIP Code\n",
      "9850                          21 READE PLACE ASC LLC   12601.0\n",
      "9851                          21 READE PLACE ASC LLC   12601.0\n",
      "3696                   ADVANCED ENDOSCOPY CENTER LLC   10463.0\n",
      "3697                   ADVANCED ENDOSCOPY CENTER LLC   10463.0\n",
      "1036                           ADVANCED ENDOSCOPY PC   11375.0\n",
      "...                                              ...       ...\n",
      "10585  WESTMORELAND ASC LLC DBA APEX SURGICAL CENTER   13490.0\n",
      "6520                              WESTSIDE GI CENTER   10019.0\n",
      "6521                              WESTSIDE GI CENTER   10019.0\n",
      "10704                     WNY MEDICAL MANAGEMENT LLC   14203.0\n",
      "10705                     WNY MEDICAL MANAGEMENT LLC   14203.0\n",
      "\n",
      "[314 rows x 2 columns]\n"
     ]
    }
   ],
   "source": [
    "\n",
    "\n",
    "# Read in the data and filter for NY facilities\n",
    "ny_df = df1.loc[df1['State'] == 'NY']\n",
    "\n",
    "# Sort the NY facilities by state and facility name\n",
    "ny_df = ny_df.sort_values(by=['State', 'Facility Name'])\n",
    "\n",
    "# Show the facility name and ZIP code for the NY facilities\n",
    "ny_facilities = ny_df[['Facility Name', 'ZIP Code']]\n",
    "print(ny_facilities)\n"
   ]
  },
  {
   "cell_type": "code",
   "execution_count": 3,
   "metadata": {},
   "outputs": [
    {
     "name": "stdout",
     "output_type": "stream",
     "text": [
      "                                       Facility Name  ZIP Code\n",
      "9850                          21 READE PLACE ASC LLC   12601.0\n",
      "9851                          21 READE PLACE ASC LLC   12601.0\n",
      "3696                   ADVANCED ENDOSCOPY CENTER LLC   10463.0\n",
      "3697                   ADVANCED ENDOSCOPY CENTER LLC   10463.0\n",
      "1036                           ADVANCED ENDOSCOPY PC   11375.0\n",
      "...                                              ...       ...\n",
      "10585  WESTMORELAND ASC LLC DBA APEX SURGICAL CENTER   13490.0\n",
      "6520                              WESTSIDE GI CENTER   10019.0\n",
      "6521                              WESTSIDE GI CENTER   10019.0\n",
      "10704                     WNY MEDICAL MANAGEMENT LLC   14203.0\n",
      "10705                     WNY MEDICAL MANAGEMENT LLC   14203.0\n",
      "\n",
      "[314 rows x 2 columns]\n"
     ]
    }
   ],
   "source": [
    "\n",
    "\n",
    "# Sort the NY facilities by state and facility name\n",
    "ny_df = ny_df.sort_values(by=['State', 'Facility Name'])\n",
    "\n",
    "# Show the facility name and ZIP code for the NY facilities\n",
    "ny_facilities = ny_df[['Facility Name', 'ZIP Code']]\n",
    "print(ny_facilities)\n"
   ]
  },
  {
   "cell_type": "code",
   "execution_count": 5,
   "metadata": {},
   "outputs": [
    {
     "name": "stdout",
     "output_type": "stream",
     "text": [
      "      ZIP Code Score\n",
      "0      12601.0   2.2\n",
      "1      12601.0  11.4\n",
      "2      12601.0   1.9\n",
      "3      12601.0   7.7\n",
      "4      12601.0  10.6\n",
      "...        ...   ...\n",
      "2047   10549.0  2.91\n",
      "2048   10549.0  5.22\n",
      "2049   10549.0  0.74\n",
      "2050   10549.0  1.09\n",
      "2051   10549.0  1.07\n",
      "\n",
      "[2052 rows x 2 columns]\n"
     ]
    }
   ],
   "source": [
    "# Read in the data for NY facilities and complications and deaths\n",
    "df2 = pd.read_csv('hospitals_current_data 2/Complications_and_Deaths-Hospital.csv')\n",
    "\n",
    "# Filter the data for NY facilities and select the ZIP Code column\n",
    "ny_zipcodes = df1.loc[df1['State'] == 'NY', 'ZIP Code']\n",
    "\n",
    "# Join the two DataFrames on ZIP Code and Facility Name\n",
    "merged_df = pd.merge(ny_df[['ZIP Code']], df2[['Score', 'ZIP Code']], on=['ZIP Code'])\n",
    "\n",
    "# Display the Score column for the matching rows\n",
    "score_df = merged_df[['ZIP Code', 'Score']]\n",
    "print(score_df)"
   ]
  },
  {
   "cell_type": "code",
   "execution_count": 6,
   "metadata": {},
   "outputs": [
    {
     "name": "stderr",
     "output_type": "stream",
     "text": [
      "/var/folders/1_/lmhbpfjd78x39hf7h6ttny5r0000gn/T/ipykernel_89885/2695941644.py:8: DtypeWarning: Columns (17) have mixed types.Specify dtype option on import or set low_memory=False.\n",
      "  dfs = [\n",
      "/var/folders/1_/lmhbpfjd78x39hf7h6ttny5r0000gn/T/ipykernel_89885/2695941644.py:8: DtypeWarning: Columns (12) have mixed types.Specify dtype option on import or set low_memory=False.\n",
      "  dfs = [\n"
     ]
    }
   ],
   "source": [
    "import chardet\n",
    "from pathlib import Path\n",
    "\n",
    "# Define the directory containing the CSV files\n",
    "data_dir = Path('hospitals_current_data 2')\n",
    "\n",
    "# Read in all CSV files in the directory and store as a list of DataFrames\n",
    "dfs = [\n",
    "    pd.read_csv(\n",
    "        file,\n",
    "        encoding=chardet.detect(open(file, 'rb').read())['encoding']\n",
    "    ) for file in data_dir.glob('*.csv')\n",
    "]\n"
   ]
  },
  {
   "cell_type": "code",
   "execution_count": 8,
   "metadata": {},
   "outputs": [
    {
     "ename": "NameError",
     "evalue": "name 'file' is not defined",
     "output_type": "error",
     "traceback": [
      "\u001b[0;31m---------------------------------------------------------------------------\u001b[0m",
      "\u001b[0;31mNameError\u001b[0m                                 Traceback (most recent call last)",
      "\u001b[0;32m/var/folders/1_/lmhbpfjd78x39hf7h6ttny5r0000gn/T/ipykernel_89885/2711784303.py\u001b[0m in \u001b[0;36m<module>\u001b[0;34m\u001b[0m\n\u001b[0;32m----> 1\u001b[0;31m \u001b[0mdf\u001b[0m \u001b[0;34m=\u001b[0m \u001b[0mpd\u001b[0m\u001b[0;34m.\u001b[0m\u001b[0mread_csv\u001b[0m\u001b[0;34m(\u001b[0m\u001b[0mfile\u001b[0m\u001b[0;34m,\u001b[0m \u001b[0mdtype\u001b[0m\u001b[0;34m=\u001b[0m\u001b[0;34m{\u001b[0m\u001b[0;34m'column_17'\u001b[0m\u001b[0;34m:\u001b[0m \u001b[0mstr\u001b[0m\u001b[0;34m}\u001b[0m\u001b[0;34m)\u001b[0m\u001b[0;34m\u001b[0m\u001b[0;34m\u001b[0m\u001b[0m\n\u001b[0m\u001b[1;32m      2\u001b[0m \u001b[0mdf\u001b[0m \u001b[0;34m=\u001b[0m \u001b[0mpd\u001b[0m\u001b[0;34m.\u001b[0m\u001b[0mread_csv\u001b[0m\u001b[0;34m(\u001b[0m\u001b[0mfile\u001b[0m\u001b[0;34m,\u001b[0m \u001b[0mlow_memory\u001b[0m\u001b[0;34m=\u001b[0m\u001b[0;32mFalse\u001b[0m\u001b[0;34m)\u001b[0m\u001b[0;34m\u001b[0m\u001b[0;34m\u001b[0m\u001b[0m\n",
      "\u001b[0;31mNameError\u001b[0m: name 'file' is not defined"
     ]
    }
   ],
   "source": [
    "df = pd.read_csv(file, dtype={'column_17': str})\n",
    "df = pd.read_csv(file, low_memory=False)\n"
   ]
  },
  {
   "cell_type": "code",
   "execution_count": null,
   "metadata": {},
   "outputs": [],
   "source": []
  },
  {
   "cell_type": "code",
   "execution_count": null,
   "metadata": {},
   "outputs": [],
   "source": []
  },
  {
   "cell_type": "code",
   "execution_count": null,
   "metadata": {},
   "outputs": [],
   "source": []
  },
  {
   "cell_type": "code",
   "execution_count": null,
   "metadata": {},
   "outputs": [],
   "source": []
  },
  {
   "cell_type": "code",
   "execution_count": null,
   "metadata": {},
   "outputs": [],
   "source": []
  },
  {
   "cell_type": "code",
   "execution_count": null,
   "metadata": {},
   "outputs": [],
   "source": []
  },
  {
   "cell_type": "code",
   "execution_count": null,
   "metadata": {},
   "outputs": [],
   "source": []
  },
  {
   "cell_type": "code",
   "execution_count": null,
   "metadata": {},
   "outputs": [],
   "source": []
  },
  {
   "cell_type": "code",
   "execution_count": null,
   "metadata": {},
   "outputs": [],
   "source": []
  },
  {
   "cell_type": "code",
   "execution_count": null,
   "metadata": {},
   "outputs": [],
   "source": []
  },
  {
   "cell_type": "code",
   "execution_count": null,
   "metadata": {},
   "outputs": [],
   "source": []
  },
  {
   "cell_type": "code",
   "execution_count": null,
   "metadata": {},
   "outputs": [],
   "source": []
  },
  {
   "cell_type": "code",
   "execution_count": null,
   "metadata": {},
   "outputs": [],
   "source": []
  },
  {
   "cell_type": "code",
   "execution_count": null,
   "metadata": {},
   "outputs": [],
   "source": []
  },
  {
   "cell_type": "code",
   "execution_count": null,
   "metadata": {},
   "outputs": [],
   "source": []
  },
  {
   "cell_type": "code",
   "execution_count": null,
   "metadata": {},
   "outputs": [],
   "source": []
  },
  {
   "cell_type": "code",
   "execution_count": null,
   "metadata": {},
   "outputs": [],
   "source": []
  },
  {
   "cell_type": "code",
   "execution_count": null,
   "metadata": {},
   "outputs": [],
   "source": []
  },
  {
   "cell_type": "code",
   "execution_count": null,
   "metadata": {},
   "outputs": [],
   "source": []
  },
  {
   "cell_type": "code",
   "execution_count": null,
   "metadata": {},
   "outputs": [],
   "source": []
  },
  {
   "cell_type": "code",
   "execution_count": null,
   "metadata": {},
   "outputs": [],
   "source": []
  },
  {
   "cell_type": "code",
   "execution_count": null,
   "metadata": {},
   "outputs": [],
   "source": []
  },
  {
   "cell_type": "code",
   "execution_count": null,
   "metadata": {},
   "outputs": [],
   "source": []
  },
  {
   "cell_type": "code",
   "execution_count": null,
   "metadata": {},
   "outputs": [],
   "source": []
  },
  {
   "cell_type": "code",
   "execution_count": null,
   "metadata": {},
   "outputs": [],
   "source": []
  },
  {
   "cell_type": "code",
   "execution_count": null,
   "metadata": {},
   "outputs": [],
   "source": []
  },
  {
   "cell_type": "code",
   "execution_count": null,
   "metadata": {},
   "outputs": [],
   "source": []
  },
  {
   "cell_type": "code",
   "execution_count": null,
   "metadata": {},
   "outputs": [],
   "source": []
  },
  {
   "cell_type": "code",
   "execution_count": null,
   "metadata": {},
   "outputs": [],
   "source": []
  },
  {
   "cell_type": "code",
   "execution_count": null,
   "metadata": {},
   "outputs": [],
   "source": []
  },
  {
   "cell_type": "code",
   "execution_count": null,
   "metadata": {},
   "outputs": [],
   "source": []
  },
  {
   "cell_type": "code",
   "execution_count": null,
   "metadata": {},
   "outputs": [],
   "source": []
  },
  {
   "cell_type": "code",
   "execution_count": null,
   "metadata": {},
   "outputs": [],
   "source": []
  },
  {
   "cell_type": "code",
   "execution_count": null,
   "metadata": {},
   "outputs": [],
   "source": []
  },
  {
   "cell_type": "code",
   "execution_count": null,
   "metadata": {},
   "outputs": [],
   "source": []
  },
  {
   "cell_type": "code",
   "execution_count": null,
   "metadata": {},
   "outputs": [],
   "source": []
  },
  {
   "cell_type": "code",
   "execution_count": null,
   "metadata": {},
   "outputs": [],
   "source": []
  },
  {
   "cell_type": "code",
   "execution_count": null,
   "metadata": {},
   "outputs": [],
   "source": []
  },
  {
   "cell_type": "code",
   "execution_count": null,
   "metadata": {},
   "outputs": [],
   "source": []
  },
  {
   "cell_type": "code",
   "execution_count": null,
   "metadata": {},
   "outputs": [],
   "source": []
  },
  {
   "cell_type": "code",
   "execution_count": null,
   "metadata": {},
   "outputs": [],
   "source": []
  },
  {
   "cell_type": "code",
   "execution_count": null,
   "metadata": {},
   "outputs": [],
   "source": []
  },
  {
   "cell_type": "code",
   "execution_count": null,
   "metadata": {},
   "outputs": [],
   "source": []
  },
  {
   "cell_type": "code",
   "execution_count": null,
   "metadata": {},
   "outputs": [],
   "source": []
  },
  {
   "cell_type": "code",
   "execution_count": null,
   "metadata": {},
   "outputs": [],
   "source": []
  },
  {
   "cell_type": "code",
   "execution_count": null,
   "metadata": {},
   "outputs": [],
   "source": []
  }
 ],
 "metadata": {
  "kernelspec": {
   "display_name": "base",
   "language": "python",
   "name": "python3"
  },
  "language_info": {
   "codemirror_mode": {
    "name": "ipython",
    "version": 3
   },
   "file_extension": ".py",
   "mimetype": "text/x-python",
   "name": "python",
   "nbconvert_exporter": "python",
   "pygments_lexer": "ipython3",
   "version": "3.9.7"
  },
  "orig_nbformat": 4,
  "vscode": {
   "interpreter": {
    "hash": "40d3a090f54c6569ab1632332b64b2c03c39dcf918b08424e98f38b5ae0af88f"
   }
  }
 },
 "nbformat": 4,
 "nbformat_minor": 2
}
