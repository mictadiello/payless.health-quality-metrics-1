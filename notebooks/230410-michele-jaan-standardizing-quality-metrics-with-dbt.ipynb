{
 "cells": [
  {
   "attachments": {},
   "cell_type": "markdown",
   "metadata": {},
   "source": [
    "## Plan\n",
    "- [ ] follow https://duckdb.org/docs/guides/python/jupyter.html\n",
    "- [ ] follow https://github.com/onefact/datathinking.org-codespace/blob/main/notebooks/in-class-notebooks/230406-data-build-tool-for-new-york-city-311-phone-call-data.ipynb\n",
    "- [ ] load csv file in duckdb"
   ]
  },
  {
   "cell_type": "code",
   "execution_count": 1,
   "metadata": {},
   "outputs": [],
   "source": [
    "import duckdb\n",
    "import pandas as pd\n",
    "# No need to import duckdb_engne\n",
    "#  jupysql will auto-detect thei driver needed based on the connection string!\n",
    "\n",
    "# Import jupysql Jupyter extension to create SQL cells\n",
    "%load_ext sql"
   ]
  },
  {
   "cell_type": "code",
   "execution_count": 2,
   "metadata": {},
   "outputs": [],
   "source": [
    "%config SqlMagic.autopandas = True\n",
    "%config SqlMagic.feedback = False\n",
    "%config SqlMagic.displaycon = False\n"
   ]
  },
  {
   "cell_type": "code",
   "execution_count": 4,
   "metadata": {},
   "outputs": [],
   "source": [
    "%sql duckdb:///:memory:"
   ]
  },
  {
   "cell_type": "code",
   "execution_count": 7,
   "metadata": {},
   "outputs": [
    {
     "name": "stdout",
     "output_type": "stream",
     "text": [
      "--2023-04-10 16:05:47--  https://data.payless.health/health.data.ny.gov%2FNYSDOH_BRFSS_SurveyData_2021.csv\n",
      "Resolving data.payless.health (data.payless.health)... 18.164.116.15, 18.164.116.105, 18.164.116.95, ...\n",
      "Connecting to data.payless.health (data.payless.health)|18.164.116.15|:443... connected.\n",
      "HTTP request sent, awaiting response... 200 OK\n",
      "Length: 407489625 (389M) [text/csv]\n",
      "Saving to: '/tmp/NYSDOH_BRFSS_SurveyData_2021.csv'\n",
      "\n",
      "/tmp/NYSDOH_BRFSS_S 100%[===================>] 388.61M  43.7MB/s    in 9.8s    \n",
      "\n",
      "2023-04-10 16:05:57 (39.9 MB/s) - '/tmp/NYSDOH_BRFSS_SurveyData_2021.csv' saved [407489625/407489625]\n",
      "\n"
     ]
    }
   ],
   "source": [
    "!wget https://data.payless.health/health.data.ny.gov%2FNYSDOH_BRFSS_SurveyData_2021.csv -O /tmp/NYSDOH_BRFSS_SurveyData_2021.csv"
   ]
  },
  {
   "cell_type": "code",
   "execution_count": null,
   "metadata": {},
   "outputs": [],
   "source": []
  },
  {
   "attachments": {},
   "cell_type": "markdown",
   "metadata": {},
   "source": [
    "## Documentation to load csv to duckdb for use in SQL queries\n",
    "https://duckdb.org/docs/data/csv/overview.html"
   ]
  },
  {
   "cell_type": "code",
   "execution_count": 6,
   "metadata": {},
   "outputs": [
    {
     "name": "stdout",
     "output_type": "stream",
     "text": [
      "(duckdb.InvalidInputException) Invalid Input Error: Error in file \"/tmp/NYSDOH_BRFSS_SurveyData_2021.csv\" at line 2 in column \"17\": Invalid unicode (byte sequence mismatch) detected in CSV file. Parser options:\n",
      "  file=/tmp/NYSDOH_BRFSS_SurveyData_2021.csv\n",
      "  delimiter=',' (auto detected)\n",
      "  quote='\"' (auto detected)\n",
      "  escape='' (auto detected)\n",
      "  header=0 (auto detected)\n",
      "  sample_size=20480\n",
      "  ignore_errors=0\n",
      "  all_varchar=0\n",
      "[SQL: SELECT * FROM read_csv_auto('/tmp/NYSDOH_BRFSS_SurveyData_2021.csv') LIMIT 10]\n",
      "(Background on this error at: https://sqlalche.me/e/14/f405)\n"
     ]
    }
   ],
   "source": [
    "%%sql\n",
    "\n",
    "SELECT * FROM read_csv_auto('/tmp/NYSDOH_BRFSS_SurveyData_2021.csv') LIMIT 10"
   ]
  },
  {
   "cell_type": "code",
   "execution_count": 8,
   "metadata": {},
   "outputs": [
    {
     "name": "stdout",
     "output_type": "stream",
     "text": [
      "(duckdb.InvalidInputException) Invalid Input Error: Error in file \"/tmp/NYSDOH_BRFSS_SurveyData_2021.csv\" at line 2 in column \"17\": Invalid unicode (byte sequence mismatch) detected in CSV file. Parser options:\n",
      "  file=/tmp/NYSDOH_BRFSS_SurveyData_2021.csv\n",
      "  delimiter=',' (auto detected)\n",
      "  quote='\"' (auto detected)\n",
      "  escape='' (auto detected)\n",
      "  header=0 (auto detected)\n",
      "  sample_size=20480\n",
      "  ignore_errors=0\n",
      "  all_varchar=0\n",
      "[SQL: SELECT * FROM '/tmp/NYSDOH_BRFSS_SurveyData_2021.csv' LIMIT 10]\n",
      "(Background on this error at: https://sqlalche.me/e/14/f405)\n"
     ]
    }
   ],
   "source": [
    "%%sql\n",
    "\n",
    "SELECT * FROM '/tmp/NYSDOH_BRFSS_SurveyData_2021.csv' LIMIT 10"
   ]
  },
  {
   "cell_type": "code",
   "execution_count": null,
   "metadata": {},
   "outputs": [],
   "source": [
    "%%sql\n",
    "\n",
    "SELECT * FROM '/tmp/NYSDOH_BRFSS_SurveyData_2021.csv' LIMIT 10"
   ]
  },
  {
   "cell_type": "code",
   "execution_count": 9,
   "metadata": {},
   "outputs": [
    {
     "name": "stdout",
     "output_type": "stream",
     "text": [
      "(duckdb.ParserException) Parser Error: syntax error at or near \"cat\"\n",
      "LINE 2: cat data/csv/issue2471.csv | duckdb -c \"select * from read_csv_auto('/dev/stdin')\"...\n",
      "        ^\n",
      "[SQL: -- read a CSV from stdin, auto-infer options\n",
      "cat data/csv/issue2471.csv | duckdb -c \"select * from read_csv_auto('/dev/stdin')\"]\n",
      "(Background on this error at: https://sqlalche.me/e/14/f405)\n"
     ]
    }
   ],
   "source": [
    "%%sql\n",
    "-- read a CSV from stdin, auto-infer options\n",
    "cat data/csv/issue2471.csv | duckdb -c \"select * from read_csv_auto('/dev/stdin')\""
   ]
  },
  {
   "cell_type": "code",
   "execution_count": 11,
   "metadata": {},
   "outputs": [
    {
     "name": "stdout",
     "output_type": "stream",
     "text": [
      "cat: data/csv/issue2471.csv: No such file or directory\n",
      "zsh:1: command not found: duckdb\n"
     ]
    }
   ],
   "source": [
    "!cat data/csv/issue2471.csv | duckdb -c \"select * from read_csv_auto('/dev/stdin')\""
   ]
  },
  {
   "cell_type": "code",
   "execution_count": null,
   "metadata": {},
   "outputs": [],
   "source": []
  }
 ],
 "metadata": {
  "kernelspec": {
   "display_name": "datathinking.org",
   "language": "python",
   "name": "python3"
  },
  "language_info": {
   "codemirror_mode": {
    "name": "ipython",
    "version": 3
   },
   "file_extension": ".py",
   "mimetype": "text/x-python",
   "name": "python",
   "nbconvert_exporter": "python",
   "pygments_lexer": "ipython3",
   "version": "3.11.0"
  },
  "orig_nbformat": 4
 },
 "nbformat": 4,
 "nbformat_minor": 2
}
